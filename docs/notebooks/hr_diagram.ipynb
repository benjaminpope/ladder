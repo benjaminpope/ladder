{
 "cells": [
  {
   "cell_type": "markdown",
   "metadata": {},
   "source": [
    "# HR Diagram\n",
    "\n",
    "In this notebook we'll show you how to make an HR diagram of nearby field stars and a cluster, and use this to determine their relative distances."
   ]
  },
  {
   "cell_type": "markdown",
   "metadata": {},
   "source": [
    "First, we'll load all the Python packages we need."
   ]
  },
  {
   "cell_type": "code",
   "execution_count": null,
   "metadata": {},
   "outputs": [],
   "source": [
    "import numpy as np\n",
    "import matplotlib \n",
    "import matplotlib as mpl\n",
    "\n",
    "import os\n",
    "\n",
    "from astropy.timeseries import LombScargle\n",
    "from astropy.table import Table\n",
    "\n",
    "# configure notebook for plotting\n",
    "%pylab inline --no-import-all \n",
    "mpl.style.use('seaborn-colorblind') # colourblind-friendly colour scheme\n",
    "colours = mpl.rcParams['axes.prop_cycle'].by_key()['color'] # allows access to colours\n",
    "# subsequent lines default plot settings\n",
    "matplotlib.rcParams['image.origin'] = 'lower'\n",
    "matplotlib.rcParams['figure.figsize']=(8.0,6.0)    #(6.0,4.0)\n",
    "matplotlib.rcParams['font.size']=16              #10 \n",
    "matplotlib.rcParams['savefig.dpi']= 300             #72 \n",
    "\n",
    "import warnings\n",
    "warnings.filterwarnings('ignore')"
   ]
  },
  {
   "cell_type": "markdown",
   "metadata": {},
   "source": [
    "## Load some data\n",
    "\n",
    "Let's pick a data directory from files I prepared earlier. These were from an earlier run of the universe-making code and don't belong to any group in this project!"
   ]
  },
  {
   "cell_type": "code",
   "execution_count": null,
   "metadata": {},
   "outputs": [],
   "source": [
    "ddir = '../U00/Up/A04/'\n"
   ]
  },
  {
   "cell_type": "code",
   "execution_count": null,
   "metadata": {},
   "outputs": [],
   "source": [
    "stars = Table.read(ddir+'points.txt',format='ascii') "
   ]
  },
  {
   "cell_type": "markdown",
   "metadata": {},
   "source": [
    "Where do they lie on the sky? In a nice cluster! "
   ]
  },
  {
   "cell_type": "code",
   "execution_count": null,
   "metadata": {},
   "outputs": [],
   "source": [
    "plt.scatter(stars['x'],stars['y'])\n",
    "plt.xlabel('x (pix)')\n",
    "plt.ylabel('y (pix)');"
   ]
  },
  {
   "cell_type": "markdown",
   "metadata": {},
   "source": [
    "Let's make an HR diagram. One thing to keep in mind is that our convention of using magnitudes is just to match our modern scale to the Ancient Greeks - in your fantasy universe, you can use whatever units you like (but I recommend that they be logarithmic!). This is an important note - lots of students get hung up on the -2.5 and the solar luminosity, but these are just conventions in our world that aren't important for the physics.\n",
    "\n",
    "So let's have a simple log scale for magnitude here."
   ]
  },
  {
   "cell_type": "code",
   "execution_count": null,
   "metadata": {},
   "outputs": [],
   "source": [
    "m0, m1, m2 = (np.log10(stars['flux1']), \n",
    "              np.log10(stars['flux2']), \n",
    "              np.log10(stars['flux3'])) \n",
    "colour = m2-m0"
   ]
  },
  {
   "cell_type": "code",
   "execution_count": null,
   "metadata": {},
   "outputs": [],
   "source": [
    "s = plt.scatter(colour,m1)\n",
    "plt.ylabel('Log Flux 1')\n",
    "plt.xlabel('Log Flux 2 - Log Flux 0')"
   ]
  },
  {
   "cell_type": "markdown",
   "metadata": {},
   "source": [
    "Great! We see a main sequence and a giant branch. Let's look at the parallaxes and see if we can get an absolute distance..."
   ]
  },
  {
   "cell_type": "code",
   "execution_count": null,
   "metadata": {},
   "outputs": [],
   "source": [
    "print('Parallaxes: mean %.3f, sd %.3f' % (np.mean(stars['par']),np.std(stars['par'])))"
   ]
  },
  {
   "cell_type": "markdown",
   "metadata": {},
   "source": [
    "Oh dear. Look at those parallaxes - tiny, some are even negative (this is just noise, and happens in real data!). Useless for an absolute distance determination! "
   ]
  },
  {
   "cell_type": "markdown",
   "metadata": {},
   "source": [
    "## Nearby stars as benchmarks\n",
    "\n",
    "We'll have to find out the distance to this cluster by fitting an HR diagram. Let's look at all the nearby stars and see if we can get something nice."
   ]
  },
  {
   "cell_type": "code",
   "execution_count": null,
   "metadata": {},
   "outputs": [],
   "source": [
    "import glob # this package lets you search for filenames\n",
    "import os\n",
    "\n",
    "all_points = glob.glob('../U00/*/*/points.txt')"
   ]
  },
  {
   "cell_type": "code",
   "execution_count": null,
   "metadata": {},
   "outputs": [],
   "source": [
    "fig, ax1 = plt.subplots(1,1)\n",
    "for j, point in enumerate(all_points):\n",
    "    try:\n",
    "        this = Table.read(point,format='ascii')\n",
    "        \n",
    "        thispar = this['par']\n",
    "        thism0, thism1, thism2 = (np.log10(this['flux1']), \n",
    "                                  np.log10(this['flux2']), \n",
    "                                  np.log10(this['flux3']))\n",
    "        thiscolour = thism2-thism0\n",
    "        dist = 1/thispar\n",
    "        abs_mag = thism1 + 2*np.log10(dist) \n",
    "        mm = thispar>0.05 # only pick the ones with good signal-to-noise\n",
    "        \n",
    "        ax1.scatter(thiscolour[mm],abs_mag[mm],color=colours[1])\n",
    "    except:\n",
    "        pass\n",
    "\n",
    "plt.ylabel('Log Flux 1')\n",
    "plt.xlabel('Log Flux 2 - Log Flux 0')"
   ]
  },
  {
   "cell_type": "markdown",
   "metadata": {},
   "source": [
    "Cool! There are tons of stars in here! "
   ]
  },
  {
   "cell_type": "markdown",
   "metadata": {},
   "source": [
    "## Distance Estimation\n",
    "\n",
    "Let's estimate the distance to this cluster. Let's plot them on the same axes:"
   ]
  },
  {
   "cell_type": "code",
   "execution_count": null,
   "metadata": {},
   "outputs": [],
   "source": [
    "fig = plt.figure()\n",
    "for j, point in enumerate(all_points):\n",
    "    try:\n",
    "        this = Table.read(point,format='ascii')\n",
    "\n",
    "        thispar = this['par']\n",
    "        thism0, thism1, thism2 = (np.log10(this['flux1']), \n",
    "                                  np.log10(this['flux2']), \n",
    "                                  np.log10(this['flux3']))\n",
    "        thiscolour = thism2-thism0\n",
    "        dist = 1/thispar\n",
    "        abs_mag = thism1 + 2*np.log10(dist)\n",
    "        mm = thispar>0.05\n",
    "        \n",
    "        h = plt.scatter(thiscolour[mm],abs_mag[mm],color=colours[1])\n",
    "    except:\n",
    "        pass\n",
    "\n",
    "s = plt.scatter(colour,m1,color=colours[0])\n",
    "\n",
    "plt.ylabel('Log Flux 1')\n",
    "plt.xlabel('Log Flux 2 - Log Flux 0')\n",
    "\n",
    "plt.legend([h,s],['Benchmark','Cluster'])"
   ]
  },
  {
   "cell_type": "markdown",
   "metadata": {},
   "source": [
    "So this cluster is much further away! By trial and error, let's find a distance modulus that looks right:"
   ]
  },
  {
   "cell_type": "code",
   "execution_count": null,
   "metadata": {},
   "outputs": [],
   "source": [
    "fig = plt.figure()\n",
    "for j, point in enumerate(all_points):\n",
    "    try:\n",
    "        this = Table.read(point,format='ascii')\n",
    "\n",
    "        thispar = this['par']\n",
    "        thism0, thism1, thism2 = (np.log10(this['flux1']), \n",
    "                                  np.log10(this['flux2']), \n",
    "                                  np.log10(this['flux3']) )\n",
    "        thiscolour = thism2-thism0\n",
    "        dist = 1/thispar\n",
    "        abs_mag = thism1 + 2*np.log10(dist)\n",
    "        mm = thispar>0.05\n",
    "        \n",
    "        h = plt.scatter(thiscolour[mm],abs_mag[mm],color=colours[1])\n",
    "    except:\n",
    "        pass\n",
    "\n",
    "s = plt.scatter(colour,m1+5.4,color=colours[0])\n",
    "\n",
    "plt.ylabel('Log Flux 1')\n",
    "plt.xlabel('Log Flux 2 - Log Flux 0')\n",
    "\n",
    "plt.legend([h,s],['Benchmark','Cluster']);"
   ]
  },
  {
   "cell_type": "markdown",
   "metadata": {},
   "source": [
    "By trial and error it looks like log10(dist) is about (5.4 to 5.5) - so this cluster is at a distance of 10^(2.2 - 2.25) = 500-560 kpc. \n",
    "\n",
    "(I looked it up in the answers and it's 520 kpc - so a pretty decent estimate!)"
   ]
  }
 ],
 "metadata": {
  "kernelspec": {
   "display_name": "Python 3",
   "language": "python",
   "name": "python3"
  },
  "language_info": {
   "codemirror_mode": {
    "name": "ipython",
    "version": 3
   },
   "file_extension": ".py",
   "mimetype": "text/x-python",
   "name": "python",
   "nbconvert_exporter": "python",
   "pygments_lexer": "ipython3",
   "version": "3.8.5"
  }
 },
 "nbformat": 4,
 "nbformat_minor": 4
}
